{
 "cells": [
  {
   "cell_type": "code",
   "execution_count": 1,
   "metadata": {
    "collapsed": false
   },
   "outputs": [
    {
     "name": "stdout",
     "output_type": "stream",
     "text": [
      "Training and Test data now in memory\n",
      "Train data shape:  (38, 7130)\n",
      "Test data shape:  (34, 7130)\n"
     ]
    }
   ],
   "source": [
    "import pandas as pd\n",
    "import numpy as np\n",
    "\n",
    "df_train = pd.read_csv(\"AMLALL_train.data\", header=None)\n",
    "df_test = pd.read_csv(\"AMLALL_test.data\", header=None)\n",
    "\n",
    "print \"Training and Test data now in memory\"\n",
    "print \"Train data shape: \",df_train.shape\n",
    "print \"Test data shape: \",df_test.shape"
   ]
  },
  {
   "cell_type": "code",
   "execution_count": 5,
   "metadata": {
    "collapsed": false
   },
   "outputs": [
    {
     "name": "stdout",
     "output_type": "stream",
     "text": [
      "Pre-processing complete\n"
     ]
    }
   ],
   "source": [
    "from sklearn import preprocessing as pp\n",
    "\n",
    "encoder = pp.LabelEncoder()\n",
    "encoder.fit(df_train[7129])\n",
    "\n",
    "trainX = df_train.as_matrix(df_train.columns[0:-1])\n",
    "trainY = encoder.transform(df_train[7129])\n",
    "\n",
    "testX = df_test.as_matrix(df_test.columns[0:-1])\n",
    "testY = encoder.transform(df_test[7129])\n",
    "\n",
    "print \"Pre-processing complete\""
   ]
  },
  {
   "cell_type": "code",
   "execution_count": 7,
   "metadata": {
    "collapsed": false
   },
   "outputs": [
    {
     "name": "stdout",
     "output_type": "stream",
     "text": [
      "Data normalized\n"
     ]
    }
   ],
   "source": [
    "trainXMean = trainX.mean(axis=0)\n",
    "trainXStd = trainX.std(axis=0)\n",
    "\n",
    "trainXNorm = (trainX - trainXMean.T) / trainXStd.T\n",
    "\n",
    "testXMean = testX.mean(axis=0)\n",
    "testXStd = testX.std(axis=0)\n",
    "\n",
    "testXNorm = (testX - testXMean.T) / testXStd.T\n",
    "\n",
    "numTrainSamples = trainX.shape[0]\n",
    "numTestSamples = testX.shape[0]\n",
    "\n",
    "print \"Data normalized\""
   ]
  },
  {
   "cell_type": "code",
   "execution_count": 8,
   "metadata": {
    "collapsed": false
   },
   "outputs": [
    {
     "name": "stdout",
     "output_type": "stream",
     "text": [
      "Eigen vectors computed for Training data in  161.81  seconds\n"
     ]
    }
   ],
   "source": [
    "from time import time\n",
    "\n",
    "st = time()\n",
    "\n",
    "trainXSigma = trainXNorm.T.dot(trainXNorm) / numTrainSamples\n",
    "\n",
    "trainU, trainS, trainV = np.linalg.svd(trainXSigma)\n",
    "\n",
    "print \"Eigen vectors computed for Training data in \", round(time()-st, 2),\" seconds\""
   ]
  },
  {
   "cell_type": "code",
   "execution_count": 12,
   "metadata": {
    "collapsed": false
   },
   "outputs": [
    {
     "data": {
      "image/png": "[encoded data removed]",
      "text/plain": [
       "<matplotlib.figure.Figure at 0x121d5908>"
      ]
     },
     "metadata": {},
     "output_type": "display_data"
    }
   ],
   "source": [
    "%matplotlib inline\n",
    "\n",
    "import matplotlib.pyplot as plt\n",
    "\n",
    "total = trainS.sum()\n",
    "\n",
    "variance = [(value / total) * 100 for value in trainS]\n",
    "explainedVariance = np.cumsum(variance)\n",
    "\n",
    "plt.bar(range(1,41), explainedVariance[:40], align='center', alpha=0.5)\n",
    "plt.xlabel('Principal Components')\n",
    "plt.ylabel('Explained Variance')\n",
    "axes = plt.gca()\n",
    "axes.set_ylim([0,120])\n",
    "plt.show()"
   ]
  },
  {
   "cell_type": "code",
   "execution_count": 13,
   "metadata": {
    "collapsed": false
   },
   "outputs": [
    {
     "name": "stdout",
     "output_type": "stream",
     "text": [
      "Eigen vectors computed for Testing data in  162.7  seconds\n"
     ]
    }
   ],
   "source": [
    "from time import time\n",
    "\n",
    "st = time()\n",
    "\n",
    "testXSigma = testXNorm.T.dot(testXNorm) / numTestSamples\n",
    "\n",
    "testU, testS, testV = np.linalg.svd(testXSigma)\n",
    "\n",
    "print \"Eigen vectors computed for Testing data in \", round(time()-st, 2),\" seconds\""
   ]
  },
  {
   "cell_type": "code",
   "execution_count": 14,
   "metadata": {
    "collapsed": false
   },
   "outputs": [
    {
     "name": "stdout",
     "output_type": "stream",
     "text": [
      "Number of features reduced to 36 from 7129 after PCA!\n"
     ]
    }
   ],
   "source": [
    "trainXReduced = trainXNorm.dot(trainU[:,:36])\n",
    "testXReduced = testXNorm.dot(testU[:,:36])\n",
    "\n",
    "print \"Number of features reduced to 36 from 7129 after PCA!\""
   ]
  },
  {
   "cell_type": "code",
   "execution_count": 15,
   "metadata": {
    "collapsed": false
   },
   "outputs": [
    {
     "name": "stdout",
     "output_type": "stream",
     "text": [
      "Logistic Regression: Accuracy =  82 %\n"
     ]
    }
   ],
   "source": [
    "from sklearn import linear_model\n",
    "\n",
    "lg = linear_model.LogisticRegression()\n",
    "\n",
    "lg.fit(trainXReduced, trainY)\n",
    "pred = lg.predict(testXReduced)\n",
    "\n",
    "acc = (pred == testY).sum() *100 / len(pred)\n",
    "\n",
    "print \"Logistic Regression: Accuracy = \",acc,\"%\""
   ]
  },
  {
   "cell_type": "code",
   "execution_count": 17,
   "metadata": {
    "collapsed": false
   },
   "outputs": [
    {
     "name": "stdout",
     "output_type": "stream",
     "text": [
      "SVM: Accuracy =  58 %\n"
     ]
    }
   ],
   "source": [
    "from sklearn import svm\n",
    "\n",
    "clf = svm.SVC()\n",
    "\n",
    "clf.fit(trainXReduced, trainY)\n",
    "pred = clf.predict(testXReduced)\n",
    "\n",
    "acc = (pred == testY).sum() *100 / len(pred)\n",
    "\n",
    "print \"SVM: Accuracy = \",acc,\"%\""
   ]
  },
  {
   "cell_type": "code",
   "execution_count": 18,
   "metadata": {
    "collapsed": false
   },
   "outputs": [
    {
     "name": "stdout",
     "output_type": "stream",
     "text": [
      "Logistic Regression: Accuracy =  97 %\n"
     ]
    }
   ],
   "source": [
    "from sklearn import linear_model\n",
    "\n",
    "lg = linear_model.LogisticRegression()\n",
    "\n",
    "lg.fit(trainX, trainY)\n",
    "pred = lg.predict(testX)\n",
    "\n",
    "acc = (pred == testY).sum() *100 / len(pred)\n",
    "\n",
    "print \"Logistic Regression: Accuracy = \",acc,\"%\""
   ]
  },
  {
   "cell_type": "code",
   "execution_count": null,
   "metadata": {
    "collapsed": true
   },
   "outputs": [],
   "source": []
  }
 ],
 "metadata": {
  "kernelspec": {
   "display_name": "Python [conda root]",
   "language": "python",
   "name": "conda-root-py"
  },
  "language_info": {
   "codemirror_mode": {
    "name": "ipython",
    "version": 2
   },
   "file_extension": ".py",
   "mimetype": "text/x-python",
   "name": "python",
   "nbconvert_exporter": "python",
   "pygments_lexer": "ipython2",
   "version": "2.7.12"
  }
 },
 "nbformat": 4,
 "nbformat_minor": 1
}
